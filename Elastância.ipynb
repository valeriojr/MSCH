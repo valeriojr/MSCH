{
 "cells": [
  {
   "cell_type": "code",
   "execution_count": null,
   "id": "05ffebfd-7c41-41b3-aa39-752460b2391a",
   "metadata": {
    "tags": []
   },
   "outputs": [],
   "source": [
    "using Plots"
   ]
  },
  {
   "cell_type": "markdown",
   "id": "cc8af0b5-5b98-4ee9-a5a5-69fd09758627",
   "metadata": {
    "tags": []
   },
   "source": [
    "**Universidade Federal de Alagoas**<br>\n",
    "**Instituto de Computação**<br>\n",
    "**Engenharia de Computação**<br>\n",
    "**Disciplina**: Modelagem do Sistema Cardiovascular Humano<br>\n",
    "**Professor**: Thiago D. Cordeiro<br>\n",
    "**Alunos**: Hugo Tallys Martins Oliveira e Valério Nogueira Rodrigues Júnior<br>"
   ]
  },
  {
   "cell_type": "markdown",
   "id": "6eeaca0e-e7b2-44d1-a2c8-711d74639778",
   "metadata": {},
   "source": [
    "# Implementação da função Elastância"
   ]
  },
  {
   "cell_type": "markdown",
   "id": "466acaad-25b9-495e-9e43-860473187e71",
   "metadata": {},
   "source": [
    "Implemente a função elastância descrita por Lim *et al*. [1] e compare a curva desta\n",
    "função com aquela descrita por Simaan *et al*. [2]. Sabendo que o parâmetro elastância\n",
    "máxima é utilizado para representar a condição de contratilidade do ventrículo, e que\n",
    "quanto maior o seu valor maior a força de contratilidade do mesmo, utilize dois valores\n",
    "para este parâmetro de modo a representar duas condições para o ventrículo."
   ]
  },
  {
   "cell_type": "markdown",
   "id": "65a3cf42-756c-4eb2-bfee-eb30e6b5472a",
   "metadata": {},
   "source": [
    "## Lim *et al*.\n",
    "$$  \n",
    "e_v(t) = \n",
    "    \\begin{cases}\n",
    "        sin(\\frac{\\pi(t - t_{sh, i})}{2T_{r,i}})^2 &\\quad t_{sh, i} \\leq t < (t_{sh,i} + T_{r, i}) \\\\\n",
    "        cos(\\frac{\\pi(t - t_{sh, i} - T_{r, i})}{2(T_{sys,i} - T_{r,i})})^2 &\\quad t_{sh, i} (t_{sh,i} + T_{r, i}) \\leq t < (t_{sh, i} + T_{sys, i}) \\\\\n",
    "        0 &\\quad 0 \\leq t < (t_{sh,i}) \\text{ or } (t_{sh, i} + T_{sys, i}) \\leq t < T \\\\\n",
    "    \\end{cases}\n",
    "$$"
   ]
  },
  {
   "cell_type": "markdown",
   "id": "f9b889f9-079a-43e0-9195-d70482c5a928",
   "metadata": {},
   "source": [
    "Definindo o modelo:"
   ]
  },
  {
   "cell_type": "code",
   "execution_count": null,
   "id": "e9489785-f123-4e85-9267-bfcfa355712b",
   "metadata": {},
   "outputs": [],
   "source": [
    "T = 1.0\n",
    "k_sys = 0.1\n",
    "t_sh = 0\n",
    "\n",
    "function eᵥ(t, T_sys0 = 0.54, k_r = 0.83)\n",
    "    \n",
    "    T_sys = T_sys0 - (k_sys / T)\n",
    "    T_r = k_r * T_sys\n",
    "    \n",
    "    t %= T\n",
    "    if ((t_sh + T_sys) <= t < T) || (0.0 <= t < t_sh)    \n",
    "        return 0.0\n",
    "    elseif t_sh <= t < (t_sh + T_r)\n",
    "        num = π * (t - t_sh)\n",
    "        den = 2T_r\n",
    "        return sin(num / den)^2\n",
    "    elseif (t_sh + T_r) <=  t < (t_sh + T_sys)\n",
    "        num = π * (t - t_sh - T_r)\n",
    "        den = 2.0 * (T_sys - T_r)\n",
    "        return cos(num / den)^2\n",
    "    end\n",
    "end;"
   ]
  },
  {
   "cell_type": "markdown",
   "id": "3b18e820-420d-4c8f-9c22-e80455134355",
   "metadata": {},
   "source": [
    "Definindo o intervalo de tempo:"
   ]
  },
  {
   "cell_type": "code",
   "execution_count": null,
   "id": "74db1d68-2dfc-4a4f-89e9-a6c883a5a71e",
   "metadata": {},
   "outputs": [],
   "source": [
    "t = 0:0.0001:2T;"
   ]
  },
  {
   "cell_type": "markdown",
   "id": "8c179bd7-ab44-44e7-89ec-6c9a3af664b2",
   "metadata": {},
   "source": [
    "Plotando a cruva descrita por _Lim. et al._. Os parâmetros escolhidos são:\n",
    "\n",
    "* $T_{sys0} = 0.54$ ( ... )\n",
    "* $k_r = 0.83$ ( ... )"
   ]
  },
  {
   "cell_type": "code",
   "execution_count": null,
   "id": "b031ffcd-09a1-4bc5-b2f9-45d2b2f09054",
   "metadata": {},
   "outputs": [],
   "source": [
    "lim = map(eᵥ, t)\n",
    "plot(t, lim, label=\"Lim\", size = (600, 200), color=\"red\")"
   ]
  },
  {
   "cell_type": "markdown",
   "id": "fd5dc005-2c81-4b8e-8bc4-2920ed09a5ee",
   "metadata": {
    "tags": []
   },
   "source": [
    "## Simaan *et al*.\n",
    "\n",
    "$$ E(t) = (E_{max} - E_{min})E_n(t_n) + E_{min} $$\n",
    "\n",
    "onde:\n",
    "\n",
    "$$\n",
    "E_n(t) = 1.55 * \\left[ \\frac{\\left(\\frac{t_n}{0.7}\\right)^{1.9}}{1 + \\left(\\frac{t_n}{0.7}\\right)^{1.9}} \\right] * \\left[ \\frac{1}{1 + \\left(\\frac{t_n}{1.17}\\right)^{21.9}} \\right]\n",
    "$$"
   ]
  },
  {
   "cell_type": "markdown",
   "id": "30e552c0-88f5-4809-9b72-f982e2ad7332",
   "metadata": {},
   "source": [
    "Definindo o modelo:"
   ]
  },
  {
   "cell_type": "code",
   "execution_count": null,
   "id": "4ff83563-475a-4316-bd82-bc0a8c5e62a9",
   "metadata": {},
   "outputs": [],
   "source": [
    "Eₘₐₓ = 2.0\n",
    "Eₘᵢₙ = 0.06\n",
    "HR = 60\n",
    "tc = 60 / HR\n",
    "Tₘₐₓ = 0.2 + 0.15tc\n",
    "\n",
    "function Eₙ(tₙ)\n",
    "    n₁ = (tₙ / 0.7) ^ 1.9\n",
    "    n₂ = (tₙ / 1.17) ^ 21.9\n",
    "    return 1.55 * (n₁ / (1 + n₁)) * (1 / (1 + n₂))\n",
    "end;\n",
    "\n",
    "function E(t) \n",
    "    return (Eₘₐₓ - Eₘᵢₙ) * Eₙ(t/Tₘₐₓ) + Eₘᵢₙ\n",
    "end;"
   ]
  },
  {
   "cell_type": "markdown",
   "id": "4ce78bd3-284d-430c-9d32-6a22149838d5",
   "metadata": {},
   "source": [
    "Plotando a curva descrita por _Simaan_:"
   ]
  },
  {
   "cell_type": "code",
   "execution_count": null,
   "id": "0309d7fd-7d46-4ddc-988f-97153d50f8ca",
   "metadata": {
    "tags": []
   },
   "outputs": [],
   "source": [
    "simaan = map(Eₙ, t .% T ./ Tₘₐₓ)\n",
    "plot(t, simaan, label=\"Simaan\", size = (600, 200), color=\"blue\")"
   ]
  },
  {
   "cell_type": "markdown",
   "id": "08ffe2fd-404f-445b-baa6-c0fe88990477",
   "metadata": {},
   "source": [
    "## Comparando os dois modelos"
   ]
  },
  {
   "cell_type": "markdown",
   "id": "9dab7085-0830-40eb-a3db-ac7d276852a7",
   "metadata": {},
   "source": [
    "Para comparar os dois modelos, vamos tentar aproximar ao máximo a curva descrita por _Lim_ daquela descrita por _Simaan_. Para isso, variar os parâmetros $T_{sys0}, k_r$ realizando uma busca completa de modo a minimizar a seguinte função:\n",
    "\n",
    "$$min_{(T_{sys0}, k_r)}\\{(S - L(T_{sys0}, k_r))^2\\}$$"
   ]
  },
  {
   "cell_type": "code",
   "execution_count": null,
   "id": "a0088498-3428-4468-b984-0464b057104b",
   "metadata": {},
   "outputs": [],
   "source": [
    "function compute_error(a, b)\n",
    "    return sum((eᵥ.(t, a, b) .- simaan) .^ 2)\n",
    "end\n",
    "\n",
    "x = 0.0:0.01:1.0\n",
    "p = Iterators.product(x, x)\n",
    "\n",
    "grid_values = Array{Float64}(undef, length(p))\n",
    "\n",
    "i = 1\n",
    "for t in p\n",
    "    grid_values[i] = compute_error(t[1], t[2])\n",
    "    i += 1\n",
    "end\n",
    "\n",
    "i = 1\n",
    "min_i = argmin(grid_values)\n",
    "min_t = nothing\n",
    "for t in p\n",
    "    if i == min_i\n",
    "        min_t = t\n",
    "    end\n",
    "    i += 1\n",
    "end\n",
    "\n",
    "println(min_t)"
   ]
  },
  {
   "cell_type": "markdown",
   "id": "f66cecaa-6efd-4077-b4fd-67a66e04424c",
   "metadata": {},
   "source": [
    "Econtramos um valor mínimo do erro no ponto onde:\n",
    "\n",
    "$$ (T_{sys0}, k_r) = (0.58, 0.73) $$"
   ]
  },
  {
   "cell_type": "markdown",
   "id": "10e48d9f-3283-4f47-8dfa-3f0fa51fedd5",
   "metadata": {},
   "source": [
    "Visualizando o erro em função dos parâmetros:"
   ]
  },
  {
   "cell_type": "code",
   "execution_count": null,
   "id": "1d665f62-32f2-4f2e-b1b2-18f74396847b",
   "metadata": {},
   "outputs": [],
   "source": [
    "n = Int64(√length(p))\n",
    "heat = reshape(grid_values, (n, n))\n",
    "heatmap(x, x, heat, c=cgrad(:viridis, rev=true), title=\"Erro entre as curvas\", xlabel=\"\\$k_r\\$\", ylabel=\"\\$T_{sys0}\\$\")\n",
    "scatter!([min_t[2]],[min_t[1]], legend=false)"
   ]
  },
  {
   "cell_type": "markdown",
   "id": "eed3d8d1-af7d-4356-9f3a-fb75b86ab580",
   "metadata": {},
   "source": [
    "Resultado final:"
   ]
  },
  {
   "cell_type": "code",
   "execution_count": null,
   "id": "49c742bb-bd66-43f6-8c00-9f76180691ab",
   "metadata": {},
   "outputs": [],
   "source": [
    "plot(t, simaan, label = \"E(t) Simaan\", color=\"blue\")\n",
    "lim = eᵥ.(t, min_t[1], min_t[2])\n",
    "plot!(t, lim, line = :dash, label = \"E(t) Lim\", size = (600, 200), color=\"red\")"
   ]
  },
  {
   "cell_type": "markdown",
   "id": "f41eb56b-8f0e-4c70-8f05-6f20544e2eb4",
   "metadata": {},
   "source": [
    "# Referências\n",
    "\n",
    "[1] Lim E, Dokos S, Cloherty SL, Salamonsen RF, Mason DG, Reizes JA, Lovell NH.**Parameter-optimized model of cardiovascular–rotary blood pump interactions**. IEEE Transactions on Biomedical Engineering. 2009 Sep 18;57(2):254-66.\n",
    "\n",
    "[2] Simaan MA, Ferreira A, Chen S, Antaki JF, Galati DG. **A dynamical state space representation and performance analysis of a feedback-controlled rotary left ventricular assist device**. IEEE Transactions on Control Systems Technology. 2008 Dec 22;17(1):15-28."
   ]
  }
 ],
 "metadata": {
  "@webio": {
   "lastCommId": "45c69540-65c5-498d-a76e-6c7fdbe0f1c2",
   "lastKernelId": "47d2bb9e-68e1-46eb-b748-7215c0edeab2"
  },
  "kernelspec": {
   "display_name": "Julia 1.7.1",
   "language": "julia",
   "name": "julia-1.7"
  },
  "language_info": {
   "file_extension": ".jl",
   "mimetype": "application/julia",
   "name": "julia",
   "version": "1.7.1"
  }
 },
 "nbformat": 4,
 "nbformat_minor": 5
}
