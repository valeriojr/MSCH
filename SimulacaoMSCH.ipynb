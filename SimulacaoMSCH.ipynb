{
 "cells": [
  {
   "cell_type": "code",
   "execution_count": null,
   "id": "05ffebfd-7c41-41b3-aa39-752460b2391a",
   "metadata": {},
   "outputs": [],
   "source": [
    "using Plots\n",
    "\n",
    "T = 1.0\n",
    "dt = 0.0001\n",
    "t = 0:dt:4T;"
   ]
  },
  {
   "cell_type": "markdown",
   "id": "006f1a26",
   "metadata": {},
   "source": [
    "# Elastância"
   ]
  },
  {
   "cell_type": "markdown",
   "id": "ed2f5e3a",
   "metadata": {},
   "source": [
    "## Simaan *et. al*"
   ]
  },
  {
   "cell_type": "markdown",
   "id": "53b4d2ba",
   "metadata": {},
   "source": [
    "$$ E(t) = (E_{max} - E_{min})E_n(t_n) + E_{min} $$\n",
    "\n",
    "onde:\n",
    "\n",
    "$$\n",
    "E_n(t) = 1.55 * \\left[ \\frac{\\left(\\frac{t_n}{0.7}\\right)^{1.9}}{1 + \\left(\\frac{t_n}{0.7}\\right)^{1.9}} \\right] * \\left[ \\frac{1}{1 + \\left(\\frac{t_n}{1.17}\\right)^{21.9}} \\right]\n",
    "$$"
   ]
  },
  {
   "cell_type": "code",
   "execution_count": null,
   "id": "4167bb61",
   "metadata": {},
   "outputs": [],
   "source": [
    "Emax = 2.1\n",
    "Emin = 0.06\n",
    "HR = 75\n",
    "tc = 60 / HR\n",
    "Tmax = 0.2 + 0.15tc\n",
    "\n",
    "function En(tn)\n",
    "    tn = (tn % T) / Tmax\n",
    "    n1 = (tn / 0.7) ^ 1.9\n",
    "    n2 = (tn / 1.17) ^ 21.9\n",
    "    return 1.55 * (n1 / (1 + n1)) * (1 / (1 + n2))\n",
    "end;\n",
    "\n",
    "function Esimaan(t) \n",
    "    return (Emax - Emin) * En(t) + Emin\n",
    "end;"
   ]
  },
  {
   "cell_type": "markdown",
   "id": "de58654f",
   "metadata": {},
   "source": [
    "## Lim *et. al*"
   ]
  },
  {
   "cell_type": "markdown",
   "id": "ff82d068",
   "metadata": {},
   "source": [
    "$$  \n",
    "e_v(t) = \n",
    "    \\begin{cases}\n",
    "        sin(\\frac{\\pi(t - t_{sh, i})}{2T_{r,i}})^2 &\\quad t_{sh, i} \\leq t < (t_{sh,i} + T_{r, i}) \\\\\n",
    "        cos(\\frac{\\pi(t - t_{sh, i} - T_{r, i})}{2(T_{sys,i} - T_{r,i})})^2 &\\quad t_{sh, i} (t_{sh,i} + T_{r, i}) \\leq t < (t_{sh, i} + T_{sys, i}) \\\\\n",
    "        0 &\\quad 0 \\leq t < (t_{sh,i}) \\text{ or } (t_{sh, i} + T_{sys, i}) \\leq t < T \\\\\n",
    "    \\end{cases}\n",
    "$$"
   ]
  },
  {
   "cell_type": "code",
   "execution_count": null,
   "id": "e9489785-f123-4e85-9267-bfcfa355712b",
   "metadata": {},
   "outputs": [],
   "source": [
    "k_sys = 0.1\n",
    "t_sh = 0\n",
    "\n",
    "function Elim_n(t, T_sys0 = 0.58, k_r = 0.83)\n",
    "    T_sys = T_sys0 - (k_sys / T)\n",
    "    T_r = k_r * T_sys\n",
    "    t %= T\n",
    "    if ((t_sh + T_sys) <= t < T) || (0.0 <= t < t_sh)    \n",
    "        return 0.0\n",
    "    elseif t_sh <= t < (t_sh + T_r)\n",
    "        num = π * (t - t_sh)\n",
    "        den = 2T_r\n",
    "        return sin(num / den)^2\n",
    "    elseif (t_sh + T_r) <=  t < (t_sh + T_sys)\n",
    "        num = π * (t - t_sh - T_r)\n",
    "        den = 2.0 * (T_sys - T_r)\n",
    "        return cos(num / den)^2\n",
    "    end\n",
    "end\n",
    "\n",
    "function Elim(t)\n",
    "    return (Emax - Emin) * Elim_n(t) + Emin\n",
    "end;"
   ]
  },
  {
   "cell_type": "code",
   "execution_count": null,
   "id": "b031ffcd-09a1-4bc5-b2f9-45d2b2f09054",
   "metadata": {},
   "outputs": [],
   "source": [
    "lim = map(Elim, t)\n",
    "simaan = map(Esimaan, t);"
   ]
  },
  {
   "cell_type": "code",
   "execution_count": null,
   "id": "245a39bc-0915-4fbc-a409-eb62442e90c5",
   "metadata": {},
   "outputs": [],
   "source": [
    "plot(t, simaan, label = \"E(t) Simaan\", color=\"blue\")\n",
    "plot!(t, lim, line = :dash, label = \"E(t) Lim\", size = (600, 200), color=\"red\")"
   ]
  },
  {
   "cell_type": "markdown",
   "id": "8c151497",
   "metadata": {},
   "source": [
    "# Modelagem do ventrículo esquerdo"
   ]
  },
  {
   "cell_type": "markdown",
   "id": "062b3cc8",
   "metadata": {},
   "source": [
    "## Constantes"
   ]
  },
  {
   "cell_type": "code",
   "execution_count": null,
   "id": "672817ea",
   "metadata": {},
   "outputs": [],
   "source": [
    "Rs = 1.0000\n",
    "Rm = 0.0050\n",
    "Ra = 0.0010\n",
    "Rc = 0.0398\n",
    "\n",
    "Cr = 4.4000\n",
    "Cs = 1.3300\n",
    "Ca = 0.0800\n",
    "\n",
    "Ls = 0.0005;\n",
    "\n",
    "V0 = 10"
   ]
  },
  {
   "cell_type": "code",
   "execution_count": null,
   "id": "94607301-90ca-45b8-84f4-d8f280cef40b",
   "metadata": {},
   "outputs": [],
   "source": [
    "N = length(t)\n",
    "x = zeros(N, 6)\n",
    "x1, x2, x3, x4, x5, x6 = eachcol(x)\n",
    "\n",
    "x[1, :] = [0.0, 10.0, 90.0, 77.0, 0.0, 140.0];"
   ]
  },
  {
   "cell_type": "markdown",
   "id": "515ef88a",
   "metadata": {},
   "source": [
    "Utilizando as Leis de Kirchoff no circuito obtemos as E.D.Os:\n",
    "\n",
    "$$\n",
    "\\dot{x_2} = \\frac{1}{R_sC_r}(x_3-x_2)-\\frac{D_m}{C_rR_m}(x_2-x_1)\\\\\n",
    "\\dot{x_3} = \\frac{1}{R_sC_s}(x_2-x_3)-\\frac{1}{C_s}(x_5)\\\\\n",
    "\\dot{x_4} = \\frac{-1}{C_a}x_5+\\frac{D_a}{C_aR_a}(x_1-x_4)\\\\\n",
    "\\dot{x_5} = \\frac{1}{L_s}(-x_3+x_4-Rc x_5)\\\\\n",
    "\\dot{x_6} = \\frac{D_a}{R_a}x_4- \\left[ \\frac{D_m}{R_m}+\\frac{D_a}{R_a}\\right] Ex_6+\\frac{D_m}{R_m}x_2 + \\left[ \\frac{D_m}{R_m}+\\frac{D_a}{R_a} \\right]EV_0\n",
    "$$\n",
    "onde $x_2$ é pressão no átrio esquerdo ($P_{ae}$), $x_3$ a pressão arterial sistêmica ($P_{as}$), $x_4$ a pressão aórtica ($P_{ao}$), $x_5$ o fluxo aórtico ($Q$), $x_6$ o volume no ventrículo esquerdo ($V_{ve}$) e $x_1$ a pressão no ventrículo esquerdo, dada pela relação\n",
    "$$\n",
    "x_1(t)=E(t)(x_6(t)-V_0)\n",
    "$$"
   ]
  },
  {
   "cell_type": "code",
   "execution_count": null,
   "id": "5116ea26-157c-4f22-a216-5083defae481",
   "metadata": {},
   "outputs": [],
   "source": [
    "RsCr = 1.0 / (Rs * Cr); RsCs = 1.0 / (Rs * Cs); CrRm = 1.0 / (Cr * Rm); CaRa = 1.0 / (Ca * Ra)\n",
    " \n",
    "E = Esimaan\n",
    "\n",
    "for i = 1:N-1\n",
    "    ti = t[i]\n",
    "    Da = (x1[i] > x4[i]) ? 1 : 0\n",
    "    Dm = (x2[i] > x1[i]) ? 1 : 0\n",
    "    drma = Dm / Rm + Da / Ra\n",
    "\n",
    "    x1[i+1] = E(ti)*(x6[i] - V0)\n",
    "    x2[i+1] = x2[i] + dt*(RsCr*(x3[i] - x2[i]) - CrRm*Dm*(x2[i] - x1[i]))\n",
    "    x3[i+1] = x3[i] + dt*(RsCs*(x2[i] - x3[i]) + (1.0/Cs)*x5[i])\n",
    "    x4[i+1] = x4[i] + dt*((-1.0/Ca)*x5[i] + CaRa*Da*(x1[i] - x4[i]))\n",
    "    x5[i+1] = x5[i] + dt*((1.0/Ls)*(-x3[i] + x4[i] - Rc*x5[i]))\n",
    "    x6[i+1] = x6[i] + dt*(((Da/Ra)*x4[i]) - drma*E(ti)*x6[i] + ((Dm/Rm)*x2[i]) + drma*E(ti) * V0)\n",
    "end"
   ]
  },
  {
   "cell_type": "code",
   "execution_count": null,
   "id": "803955f0",
   "metadata": {},
   "outputs": [],
   "source": [
    "plot(t, [x1, x2, x4], label=[\"PVE\" \"PAE\" \"PAo\"], lw=3, size=(600, 200))"
   ]
  },
  {
   "cell_type": "code",
   "execution_count": null,
   "id": "c07df745",
   "metadata": {},
   "outputs": [],
   "source": [
    "plot(t, x5, label=\"Fluxo Aorta\", color=\"purple\", lw=3, size=(600, 200))"
   ]
  },
  {
   "cell_type": "code",
   "execution_count": null,
   "id": "9ec2c7c4-029c-482d-8eca-2c759be9f5f8",
   "metadata": {},
   "outputs": [],
   "source": [
    "plot(t, x6, label=\"VVE\", color=\"red\", lw=3, size=(600, 200), ylims = (50, 160))"
   ]
  },
  {
   "cell_type": "markdown",
   "id": "f41eb56b-8f0e-4c70-8f05-6f20544e2eb4",
   "metadata": {},
   "source": [
    "# Referências\n",
    "\n",
    "[1] Lim E, Dokos S, Cloherty SL, Salamonsen RF, Mason DG, Reizes JA, Lovell NH.**Parameter-optimized model of cardiovascular–rotary blood pump interactions**. IEEE Transactions on Biomedical Engineering. 2009 Sep 18;57(2):254-66.\n",
    "\n",
    "[2] Simaan MA, Ferreira A, Chen S, Antaki JF, Galati DG. **A dynamical state space representation and performance analysis of a feedback-controlled rotary left ventricular assist device**. IEEE Transactions on Control Systems Technology. 2008 Dec 22;17(1):15-28."
   ]
  }
 ],
 "metadata": {
  "@webio": {
   "lastCommId": null,
   "lastKernelId": null
  },
  "celltoolbar": "Slideshow",
  "kernelspec": {
   "display_name": "Julia 1.7.1",
   "language": "julia",
   "name": "julia-1.7"
  },
  "language_info": {
   "file_extension": ".jl",
   "mimetype": "application/julia",
   "name": "julia"
  }
 },
 "nbformat": 4,
 "nbformat_minor": 5
}
